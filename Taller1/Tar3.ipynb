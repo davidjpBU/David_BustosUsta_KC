{
 "cells": [
  {
   "cell_type": "markdown",
   "metadata": {},
   "source": [
    "# ¿Cuánto deberían valer las propiedades en Milwaukee, Wisconsin? "
   ]
  },
  {
   "cell_type": "markdown",
   "metadata": {},
   "source": [
    "## Metas (3 min)\n",
    "El famoso estadístico George E.P. Box una vez dijo:\n",
    "\n",
    "$$\n",
    "\\textbf{\"Todos los modelos son incorrectos, pero algunos modelos son útiles.\"}\n",
    "$$\n",
    "\n",
    "Nuestro mundo se comporta de acuerdo con tantas variables que están fuera de nuestro control, que esperar que un modelo simple *perfectamente* explique estos matices es imposible. Sin embargo, podemos intentar mitigar este problema mejorando nuestra comprensión de los errores que están produciendo nuestros modelos. Esto nos permite actualizar el modelo en consecuencia y poder mejorar su utilidad.\n",
    "\n",
    "El objetivo principal de este caso es aprender a realizar un análisis adecuado de los errores (residuales) de los modelos de regresión lineal y cómo utilizar este análisis para realizar mejoras en el modelo. Verá nuevamente cómo las transformaciones de variables y un estudio de valores atípicos en los residuos pueden ayudar con esta tarea."
   ]
  },
  {
   "cell_type": "code",
   "execution_count": 1,
   "metadata": {},
   "outputs": [],
   "source": [
    "### Load relevant packages\n",
    "import pandas                  as pd\n",
    "import numpy                   as np\n",
    "import matplotlib.pyplot       as plt\n",
    "import seaborn                 as sns\n",
    "import statsmodels.formula.api as smf\n",
    "import statsmodels.api         as sm\n",
    "import scipy\n",
    "\n",
    "%matplotlib inline\n",
    "plt.style.use('ggplot')\n",
    "from pandas.plotting import register_matplotlib_converters\n",
    "register_matplotlib_converters()"
   ]
  },
  {
   "cell_type": "markdown",
   "metadata": {},
   "source": [
    "## Introducción (5 min)\n",
    "\n",
    "**Contexto comercial** Los mercados de bienes raíces a veces pueden ser irracionales, y comprar una casa ciertamente puede ser un proceso emocional y altamente psicológico. Por ejemplo, el precio de venta puede [“anchor”](https://en.wikipedia.org/wiki/Anchoring) las negociaciones, y puede ser muy difícil como comprador “olvidar” ese número inicial.\n",
    "\n",
    "Eres un promotor inmobiliario que compra propiedades con frecuencia. Sería muy útil obtener una estimación justa del precio de una propiedad antes de ver el precio de venta, basándose en características como su tamaño y ubicación. Además de convertirlo en un comprador más informado, tener un modelo de precios podría tener múltiples usos, como detectar automáticamente las propiedades con precio inferior al mercado que salen al mercado o estimar el valor agregado de una propiedad si se amplía, se divide en apartamentos o se convierte en oficinas.\n",
    "\n",
    "**Problema comercial** Su tarea es **crear un modelo para predecir los precios de las propiedades en la ciudad de Milwaukee, Wisconsin**.\n",
    "\n",
    "**Contexto analítico** El conjunto de datos consta de ventas de propiedades (comerciales y residenciales) en Milwaukee, Wisconsin, de 2002 a 2018. La regresión lineal es una idea simple: al final del día, solo estamos ajustando una línea a través de los datos. Pero su simplicidad es también su fortaleza: los coeficientes son fácilmente interpretables y es sencillo comprender el modelo subyacente. Sin embargo, muchas cosas pueden salir mal durante el proceso de ajuste de un modelo lineal.\n",
    "\n",
    "El caso está estructurado de la siguiente manera: 1) explorará los datos para recoger algunos patrones iniciales; 2) analizar **residuales**, la diferencia entre los valores reales y sus estimaciones, para diagnosticar un modelo inicial; 3) realizar transformaciones de variables para tratar parcialmente los problemas; y finalmente 4) ver cómo lidiar con los valores atípicos para mejorar aún más el modelo."
   ]
  },
  {
   "cell_type": "markdown",
   "metadata": {},
   "source": [
    "## Exploración de data (25 min)\n",
    "\n",
    "Miremos las variables disponibles:\n",
    "1. **PropType**: the property category (“Commercial”, “Residential”, “Lg Apartment”, “Vacant Land”, or “Condominium”)\n",
    "2. **Taxkey**: a unique identifier for the property\n",
    "3. **Address**: the street address of the property\n",
    "4. **CondoProject**: for condominiums, the name of the project\n",
    "5. **District**: integer between 1 and 15 identifying the city district\n",
    "6. **Nbhd**: integer identifying one of 591 neighborhoods\n",
    "7. **Style**: information about the building architectural style, commerical use or type of building\n",
    "8. **Extwall**: type of exterior wall (e.g. “Brick”)\n",
    "9. **Stories**: number of stories\n",
    "10. **Year_Built**: the year the building was built\n",
    "11. **Nr_of_rms**: number of rooms\n",
    "12. **Fin_sqft**: finished square feet\n",
    "13. **Units**: number of units (e.g. apartments) in the building\n",
    "14. **Bdrms**: number of bedrooms\n",
    "15. **Fbath**: number of full bathrooms\n",
    "16. **Hbath**: number of half bathrooms\n",
    "17. **Lotsize**: size of the lot in square feet\n",
    "18. **Sale_date**: the date of the sale in YYYY-MM-DD format\n",
    "19. **Sale_price**: sale price in US dollars"
   ]
  },
  {
   "cell_type": "code",
   "execution_count": 2,
   "metadata": {},
   "outputs": [
    {
     "data": {
      "text/html": [
       "<div>\n",
       "<style scoped>\n",
       "    .dataframe tbody tr th:only-of-type {\n",
       "        vertical-align: middle;\n",
       "    }\n",
       "\n",
       "    .dataframe tbody tr th {\n",
       "        vertical-align: top;\n",
       "    }\n",
       "\n",
       "    .dataframe thead th {\n",
       "        text-align: right;\n",
       "    }\n",
       "</style>\n",
       "<table border=\"1\" class=\"dataframe\">\n",
       "  <thead>\n",
       "    <tr style=\"text-align: right;\">\n",
       "      <th></th>\n",
       "      <th>PropType</th>\n",
       "      <th>Taxkey</th>\n",
       "      <th>Address</th>\n",
       "      <th>CondoProject</th>\n",
       "      <th>District</th>\n",
       "      <th>Nbhd</th>\n",
       "      <th>Style</th>\n",
       "      <th>Extwall</th>\n",
       "      <th>Stories</th>\n",
       "      <th>Year_Built</th>\n",
       "      <th>Nr_of_rms</th>\n",
       "      <th>Fin_sqft</th>\n",
       "      <th>Units</th>\n",
       "      <th>Bdrms</th>\n",
       "      <th>Fbath</th>\n",
       "      <th>Hbath</th>\n",
       "      <th>Lotsize</th>\n",
       "      <th>Sale_date</th>\n",
       "      <th>Sale_price</th>\n",
       "    </tr>\n",
       "  </thead>\n",
       "  <tbody>\n",
       "    <tr>\n",
       "      <td>0</td>\n",
       "      <td>Commercial</td>\n",
       "      <td>3230461110</td>\n",
       "      <td>2628 N 6TH ST</td>\n",
       "      <td>NaN</td>\n",
       "      <td>6</td>\n",
       "      <td>6258</td>\n",
       "      <td>Commercial Exempt</td>\n",
       "      <td>NaN</td>\n",
       "      <td>2.0</td>\n",
       "      <td>1880</td>\n",
       "      <td>0</td>\n",
       "      <td>1840</td>\n",
       "      <td>1</td>\n",
       "      <td>0</td>\n",
       "      <td>0</td>\n",
       "      <td>0</td>\n",
       "      <td>12750</td>\n",
       "      <td>2002-01-01</td>\n",
       "      <td>15900</td>\n",
       "    </tr>\n",
       "    <tr>\n",
       "      <td>1</td>\n",
       "      <td>Commercial</td>\n",
       "      <td>3590192000</td>\n",
       "      <td>1363 N PROSPECT AV</td>\n",
       "      <td>NaN</td>\n",
       "      <td>3</td>\n",
       "      <td>6262</td>\n",
       "      <td>Mansions With Commercial Usage</td>\n",
       "      <td>NaN</td>\n",
       "      <td>2.0</td>\n",
       "      <td>1876</td>\n",
       "      <td>0</td>\n",
       "      <td>6377</td>\n",
       "      <td>1</td>\n",
       "      <td>0</td>\n",
       "      <td>0</td>\n",
       "      <td>0</td>\n",
       "      <td>11840</td>\n",
       "      <td>2002-01-01</td>\n",
       "      <td>850000</td>\n",
       "    </tr>\n",
       "    <tr>\n",
       "      <td>2</td>\n",
       "      <td>Commercial</td>\n",
       "      <td>4161194000</td>\n",
       "      <td>617 S 94TH ST</td>\n",
       "      <td>NaN</td>\n",
       "      <td>10</td>\n",
       "      <td>6272</td>\n",
       "      <td>Service Building</td>\n",
       "      <td>NaN</td>\n",
       "      <td>1.0</td>\n",
       "      <td>1954</td>\n",
       "      <td>0</td>\n",
       "      <td>5022</td>\n",
       "      <td>1</td>\n",
       "      <td>0</td>\n",
       "      <td>0</td>\n",
       "      <td>0</td>\n",
       "      <td>9700</td>\n",
       "      <td>2002-01-01</td>\n",
       "      <td>119000</td>\n",
       "    </tr>\n",
       "    <tr>\n",
       "      <td>3</td>\n",
       "      <td>Commercial</td>\n",
       "      <td>1719836000</td>\n",
       "      <td>3624 W SILVER SPRING DR</td>\n",
       "      <td>NaN</td>\n",
       "      <td>1</td>\n",
       "      <td>6218</td>\n",
       "      <td>Store Bldg - Multi Story (Store &amp; Apt, Store &amp; O</td>\n",
       "      <td>NaN</td>\n",
       "      <td>2.0</td>\n",
       "      <td>1955</td>\n",
       "      <td>0</td>\n",
       "      <td>6420</td>\n",
       "      <td>1</td>\n",
       "      <td>0</td>\n",
       "      <td>0</td>\n",
       "      <td>0</td>\n",
       "      <td>8792</td>\n",
       "      <td>2002-01-01</td>\n",
       "      <td>210000</td>\n",
       "    </tr>\n",
       "    <tr>\n",
       "      <td>4</td>\n",
       "      <td>Commercial</td>\n",
       "      <td>3480290000</td>\n",
       "      <td>3830 W LISBON AV</td>\n",
       "      <td>NaN</td>\n",
       "      <td>15</td>\n",
       "      <td>6254</td>\n",
       "      <td>Store Bldg - Multi Story (Store &amp; Apt, Store &amp; O</td>\n",
       "      <td>NaN</td>\n",
       "      <td>2.0</td>\n",
       "      <td>1909</td>\n",
       "      <td>0</td>\n",
       "      <td>5956</td>\n",
       "      <td>1</td>\n",
       "      <td>0</td>\n",
       "      <td>0</td>\n",
       "      <td>0</td>\n",
       "      <td>4840</td>\n",
       "      <td>2002-01-01</td>\n",
       "      <td>48500</td>\n",
       "    </tr>\n",
       "  </tbody>\n",
       "</table>\n",
       "</div>"
      ],
      "text/plain": [
       "     PropType      Taxkey                  Address CondoProject District  \\\n",
       "0  Commercial  3230461110            2628 N 6TH ST          NaN        6   \n",
       "1  Commercial  3590192000       1363 N PROSPECT AV          NaN        3   \n",
       "2  Commercial  4161194000            617 S 94TH ST          NaN       10   \n",
       "3  Commercial  1719836000  3624 W SILVER SPRING DR          NaN        1   \n",
       "4  Commercial  3480290000         3830 W LISBON AV          NaN       15   \n",
       "\n",
       "   Nbhd                                             Style Extwall  Stories  \\\n",
       "0  6258                                 Commercial Exempt     NaN      2.0   \n",
       "1  6262                    Mansions With Commercial Usage     NaN      2.0   \n",
       "2  6272                                  Service Building     NaN      1.0   \n",
       "3  6218  Store Bldg - Multi Story (Store & Apt, Store & O     NaN      2.0   \n",
       "4  6254  Store Bldg - Multi Story (Store & Apt, Store & O     NaN      2.0   \n",
       "\n",
       "   Year_Built  Nr_of_rms  Fin_sqft  Units  Bdrms  Fbath  Hbath  Lotsize  \\\n",
       "0        1880          0      1840      1      0      0      0    12750   \n",
       "1        1876          0      6377      1      0      0      0    11840   \n",
       "2        1954          0      5022      1      0      0      0     9700   \n",
       "3        1955          0      6420      1      0      0      0     8792   \n",
       "4        1909          0      5956      1      0      0      0     4840   \n",
       "\n",
       "   Sale_date  Sale_price  \n",
       "0 2002-01-01       15900  \n",
       "1 2002-01-01      850000  \n",
       "2 2002-01-01      119000  \n",
       "3 2002-01-01      210000  \n",
       "4 2002-01-01       48500  "
      ]
     },
     "execution_count": 2,
     "metadata": {},
     "output_type": "execute_result"
    }
   ],
   "source": [
    "data = pd.read_csv(\"2002-2018-property-sales-data.csv\",\n",
    "    dtype = { # indicate categorical variables\n",
    "        \"PropType\": \"category\",\n",
    "        \"District\": \"category\",\n",
    "        \"Extwall\": \"category\",\n",
    "        \"Nbhd\": \"category\",\n",
    "        \"Style\": \"category\",\n",
    "    },\n",
    "    parse_dates=[\"Sale_date\"], # the Sale_date column is parsed as a date\n",
    ")\n",
    "data.head()"
   ]
  },
  {
   "cell_type": "code",
   "execution_count": 3,
   "metadata": {},
   "outputs": [
    {
     "data": {
      "text/plain": [
       "PropType            3\n",
       "Taxkey              0\n",
       "Address             0\n",
       "CondoProject    27867\n",
       "District            0\n",
       "Nbhd                0\n",
       "Style               6\n",
       "Extwall          9899\n",
       "Stories             0\n",
       "Year_Built          0\n",
       "Nr_of_rms           0\n",
       "Fin_sqft            0\n",
       "Units               0\n",
       "Bdrms               0\n",
       "Fbath               0\n",
       "Hbath               0\n",
       "Lotsize             0\n",
       "Sale_date           0\n",
       "Sale_price          0\n",
       "dtype: int64"
      ]
     },
     "execution_count": 3,
     "metadata": {},
     "output_type": "execute_result"
    }
   ],
   "source": [
    "data.shape\n",
    "data.isnull().sum()"
   ]
  },
  {
   "cell_type": "markdown",
   "metadata": {},
   "source": [
    "A veces, los números que faltan se ingresan como ceros, lo que puede estropear el análisis (consulte \"Tamaño de lote\" a continuación como ejemplo).\n",
    "Antes de continuar, eliminaremos las filas con ceros en `Year_Built`,` Fin_sqft`, `Lotsize` y` Sale_price`, ya que estas son las variables numéricas donde los valores cero erróneos pueden sesgar la distribución:"
   ]
  },
  {
   "cell_type": "code",
   "execution_count": 4,
   "metadata": {},
   "outputs": [
    {
     "data": {
      "text/plain": [
       "Text(0, 0.5, 'count')"
      ]
     },
     "execution_count": 4,
     "metadata": {},
     "output_type": "execute_result"
    },
    {
     "data": {
      "image/png": "[encoded data removed]",
      "text/plain": [
       "<Figure size 432x288 with 1 Axes>"
      ]
     },
     "metadata": {
      "needs_background": "light"
     },
     "output_type": "display_data"
    }
   ],
   "source": [
    "plt.hist(np.log(data[\"Lotsize\"]+1), bins=100)\n",
    "plt.xlabel(\"log(Lotsize+1)\")\n",
    "plt.ylabel(\"count\")"
   ]
  },
  {
   "cell_type": "markdown",
   "metadata": {},
   "source": [
    "Con el fin de eliminar de consideración los posibles factores de confusión, nos centraremos únicamente en las propiedades residenciales (las propiedades comerciales están sujetas a todo tipo de fuerzas económicas y de mercado que las propiedades residenciales no lo están):"
   ]
  },
  {
   "cell_type": "code",
   "execution_count": 5,
   "metadata": {},
   "outputs": [
    {
     "data": {
      "text/html": [
       "<div>\n",
       "<style scoped>\n",
       "    .dataframe tbody tr th:only-of-type {\n",
       "        vertical-align: middle;\n",
       "    }\n",
       "\n",
       "    .dataframe tbody tr th {\n",
       "        vertical-align: top;\n",
       "    }\n",
       "\n",
       "    .dataframe thead th {\n",
       "        text-align: right;\n",
       "    }\n",
       "</style>\n",
       "<table border=\"1\" class=\"dataframe\">\n",
       "  <thead>\n",
       "    <tr style=\"text-align: right;\">\n",
       "      <th></th>\n",
       "      <th>PropType</th>\n",
       "      <th>Taxkey</th>\n",
       "      <th>Address</th>\n",
       "      <th>CondoProject</th>\n",
       "      <th>District</th>\n",
       "      <th>Nbhd</th>\n",
       "      <th>Style</th>\n",
       "      <th>Extwall</th>\n",
       "      <th>Stories</th>\n",
       "      <th>Year_Built</th>\n",
       "      <th>Nr_of_rms</th>\n",
       "      <th>Fin_sqft</th>\n",
       "      <th>Units</th>\n",
       "      <th>Bdrms</th>\n",
       "      <th>Fbath</th>\n",
       "      <th>Hbath</th>\n",
       "      <th>Lotsize</th>\n",
       "      <th>Sale_date</th>\n",
       "      <th>Sale_price</th>\n",
       "    </tr>\n",
       "  </thead>\n",
       "  <tbody>\n",
       "    <tr>\n",
       "      <td>10</td>\n",
       "      <td>Residential</td>\n",
       "      <td>3080013000</td>\n",
       "      <td>3033 N 35TH ST</td>\n",
       "      <td>NaN</td>\n",
       "      <td>7</td>\n",
       "      <td>2960</td>\n",
       "      <td>AP 1</td>\n",
       "      <td>Frame</td>\n",
       "      <td>2.0</td>\n",
       "      <td>1913</td>\n",
       "      <td>0</td>\n",
       "      <td>3476</td>\n",
       "      <td>4</td>\n",
       "      <td>9</td>\n",
       "      <td>1</td>\n",
       "      <td>0</td>\n",
       "      <td>5040</td>\n",
       "      <td>2002-02-01</td>\n",
       "      <td>42000</td>\n",
       "    </tr>\n",
       "    <tr>\n",
       "      <td>51</td>\n",
       "      <td>Residential</td>\n",
       "      <td>3190434000</td>\n",
       "      <td>1908 E WEBSTER PL</td>\n",
       "      <td>NaN</td>\n",
       "      <td>3</td>\n",
       "      <td>3170</td>\n",
       "      <td>Rm or Rooming House</td>\n",
       "      <td>Frame</td>\n",
       "      <td>2.0</td>\n",
       "      <td>1897</td>\n",
       "      <td>0</td>\n",
       "      <td>1992</td>\n",
       "      <td>4</td>\n",
       "      <td>2</td>\n",
       "      <td>2</td>\n",
       "      <td>0</td>\n",
       "      <td>2880</td>\n",
       "      <td>2002-05-01</td>\n",
       "      <td>145000</td>\n",
       "    </tr>\n",
       "    <tr>\n",
       "      <td>67</td>\n",
       "      <td>Residential</td>\n",
       "      <td>3891722000</td>\n",
       "      <td>812 N 25TH ST</td>\n",
       "      <td>NaN</td>\n",
       "      <td>4</td>\n",
       "      <td>3040</td>\n",
       "      <td>Rm or Rooming House</td>\n",
       "      <td>Frame</td>\n",
       "      <td>2.0</td>\n",
       "      <td>1907</td>\n",
       "      <td>0</td>\n",
       "      <td>2339</td>\n",
       "      <td>6</td>\n",
       "      <td>0</td>\n",
       "      <td>1</td>\n",
       "      <td>0</td>\n",
       "      <td>3185</td>\n",
       "      <td>2002-06-01</td>\n",
       "      <td>30000</td>\n",
       "    </tr>\n",
       "    <tr>\n",
       "      <td>116</td>\n",
       "      <td>Residential</td>\n",
       "      <td>3880628000</td>\n",
       "      <td>959 N 34TH ST</td>\n",
       "      <td>NaN</td>\n",
       "      <td>4</td>\n",
       "      <td>2300</td>\n",
       "      <td>AP 1</td>\n",
       "      <td>Frame</td>\n",
       "      <td>2.0</td>\n",
       "      <td>1890</td>\n",
       "      <td>0</td>\n",
       "      <td>2329</td>\n",
       "      <td>4</td>\n",
       "      <td>4</td>\n",
       "      <td>1</td>\n",
       "      <td>0</td>\n",
       "      <td>5781</td>\n",
       "      <td>2002-10-01</td>\n",
       "      <td>66500</td>\n",
       "    </tr>\n",
       "    <tr>\n",
       "      <td>134</td>\n",
       "      <td>Residential</td>\n",
       "      <td>3880406000</td>\n",
       "      <td>3209 W WELLS ST</td>\n",
       "      <td>NaN</td>\n",
       "      <td>4</td>\n",
       "      <td>2300</td>\n",
       "      <td>Mansion</td>\n",
       "      <td>Stone</td>\n",
       "      <td>2.5</td>\n",
       "      <td>1891</td>\n",
       "      <td>0</td>\n",
       "      <td>7450</td>\n",
       "      <td>2</td>\n",
       "      <td>7</td>\n",
       "      <td>6</td>\n",
       "      <td>0</td>\n",
       "      <td>15600</td>\n",
       "      <td>2002-11-01</td>\n",
       "      <td>150500</td>\n",
       "    </tr>\n",
       "  </tbody>\n",
       "</table>\n",
       "</div>"
      ],
      "text/plain": [
       "        PropType      Taxkey            Address CondoProject District  Nbhd  \\\n",
       "10   Residential  3080013000     3033 N 35TH ST          NaN        7  2960   \n",
       "51   Residential  3190434000  1908 E WEBSTER PL          NaN        3  3170   \n",
       "67   Residential  3891722000      812 N 25TH ST          NaN        4  3040   \n",
       "116  Residential  3880628000      959 N 34TH ST          NaN        4  2300   \n",
       "134  Residential  3880406000    3209 W WELLS ST          NaN        4  2300   \n",
       "\n",
       "                   Style Extwall  Stories  Year_Built  Nr_of_rms  Fin_sqft  \\\n",
       "10                  AP 1   Frame      2.0        1913          0      3476   \n",
       "51   Rm or Rooming House   Frame      2.0        1897          0      1992   \n",
       "67   Rm or Rooming House   Frame      2.0        1907          0      2339   \n",
       "116                 AP 1   Frame      2.0        1890          0      2329   \n",
       "134              Mansion   Stone      2.5        1891          0      7450   \n",
       "\n",
       "     Units  Bdrms  Fbath  Hbath  Lotsize  Sale_date  Sale_price  \n",
       "10       4      9      1      0     5040 2002-02-01       42000  \n",
       "51       4      2      2      0     2880 2002-05-01      145000  \n",
       "67       6      0      1      0     3185 2002-06-01       30000  \n",
       "116      4      4      1      0     5781 2002-10-01       66500  \n",
       "134      2      7      6      0    15600 2002-11-01      150500  "
      ]
     },
     "execution_count": 5,
     "metadata": {},
     "output_type": "execute_result"
    }
   ],
   "source": [
    "def remove_unused_categories(data):\n",
    "    \"\"\"  `remove_unused_categories` es un método en pandas\n",
    "         elimina categorías de una serie si no hay\n",
    "         elementos de esa categoría.\n",
    "        \n",
    "         Esta función es una función de conveniencia que elimina\n",
    "         categorías no utilizadas para todas las columnas categóricas\n",
    "         de un marco de datos.\n",
    "        \n",
    "         La razón por la que esto es útil es que cuando\n",
    "         ajustar una regresión lineal, `statsmodels`\n",
    "         crear un coeficiente para cada categoría en una columna,\n",
    "         y las categorías no utilizadas contaminan los resultados.\n",
    "    \"\"\"\n",
    "    for cname in data:\n",
    "        col = data[cname]\n",
    "        if pd.api.types.is_categorical_dtype(col):\n",
    "            data[cname] = col.cat.remove_unused_categories()\n",
    "    return data\n",
    "\n",
    "clean = np.where(\n",
    "    (data[\"Sale_price\"] > 0) & \n",
    "    (data[\"Year_Built\"] > 1800) &\n",
    "    (data[\"Fin_sqft\"] > 0) & # must have non-zero finished square feet\n",
    "    (data[\"Lotsize\"] > 0)  & # must have non-zero lot size\n",
    "    (data[\"PropType\"] == \"Residential\")\n",
    "    )\n",
    "data_clean = data.iloc[clean].copy()\n",
    "remove_unused_categories(data_clean).head()"
   ]
  },
  {
   "cell_type": "code",
   "execution_count": 6,
   "metadata": {},
   "outputs": [
    {
     "data": {
      "text/plain": [
       "(24450, 19)"
      ]
     },
     "execution_count": 6,
     "metadata": {},
     "output_type": "execute_result"
    }
   ],
   "source": [
    "data_clean.shape"
   ]
  },
  {
   "cell_type": "markdown",
   "metadata": {},
   "source": [
    "### Ejercicio 1: (15 min)\n",
    "\n",
    "#### 1.1\n",
    "\n",
    "Escribe código para visualizar la relación entre el logaritmo del precio de venta por pie cuadrado (`Fin_sqft`) y las siguientes variables:\n",
    "\n",
    "1. the number of units (C)\n",
    "2. the year the building was built \n",
    "3. the city district (C)\n",
    "4. the logarithm of the finished square footage\n",
    "5. the number of bedrooms (C)\n",
    "6. the sale date\n",
    "\n",
    "Para las variables categóricas, puede ser útil utilizar **gráficos de violín**, que primero separa los datos por categoría y luego muestra la distribución de la variable $y$ como un histograma suave para cada categoría.\n",
    "\n",
    "**Sugerencia:** Puede usar la función seaborn ``sns.violinplot(x, y, data)``. Para este ejercicio, dibuje diagramas de violín para las variables con una (C) como se muestra arriba."
   ]
  },
  {
   "cell_type": "markdown",
   "metadata": {},
   "source": [
    "**Solución.** "
   ]
  },
  {
   "cell_type": "code",
   "execution_count": null,
   "metadata": {},
   "outputs": [],
   "source": [
    "\n",
    "        "
   ]
  },
  {
   "cell_type": "markdown",
   "metadata": {},
   "source": [
    "#### 1.2\n",
    "\n",
    "¿Qué puede concluir de estas parcelas exploratorias? Seleccione todas las que correspondan.\n",
    "\n",
    "(a) Las propiedades construidas en los últimos diez años tienden a ser más valiosas (por pie cuadrado)\n",
    "\n",
    "(b) Dividir una propiedad de una sola unidad en unidades más pequeñas tendería a hacerla más valiosa\n",
    "\n",
    "(c) Muchas de las propiedades más valiosas se encuentran en los distritos 3 y 14\n",
    "\n",
    "(d) Tener más dormitorios hace que una propiedad sea menos valiosa"
   ]
  },
  {
   "cell_type": "markdown",
   "metadata": {},
   "source": [
    "**Respuesta.**\n"
   ]
  },
  {
   "cell_type": "code",
   "execution_count": null,
   "metadata": {},
   "outputs": [],
   "source": []
  },
  {
   "cell_type": "markdown",
   "metadata": {},
   "source": [
    "### Ejercicio 2: (5 min)\n",
    "\n",
    "Proporcione el código para ajustar una regresión lineal múltiple del precio de venta contra el distrito, el número de unidades y los pies cuadrados terminados. ¿Qué distritos reconoce el modelo como los que tienen las propiedades más valiosas? ¿Son todos los coeficientes significativos? Si no es así, ¿cómo deberíamos interpretar los coeficientes con un valor $p$ alto?"
   ]
  },
  {
   "cell_type": "markdown",
   "metadata": {},
   "source": [
    "**Respuesta**"
   ]
  },
  {
   "cell_type": "code",
   "execution_count": null,
   "metadata": {
    "scrolled": true
   },
   "outputs": [],
   "source": []
  },
  {
   "cell_type": "markdown",
   "metadata": {},
   "source": []
  },
  {
   "cell_type": "markdown",
   "metadata": {},
   "source": [
    "## Inspección de residuos para diagnosticar un modelo ajustado (30 min)\n",
    "\n",
    "La regresión lineal es conceptualmente simple; después de todo, solo estamos ajustando una línea a través de nuestros datos, pero muchas cosas pueden salir mal. **El análisis de residuos** es una herramienta importante para diagnosticar muchos problemas que pueden afectar una regresión lineal.\n",
    "Los \"residuales\" son la diferencia entre las observaciones $y$ y los valores ajustados correspondientes $\\hat{y}$;\n",
    "visualmente es la distancia entre la línea ajustada y los puntos de datos.\n",
    "\n",
    "El análisis residual nos permite probar algunos de los supuestos teóricos que sustentan la regresión lineal. La versión corta es que la regresión lineal funciona mejor cuando los residuos son idénticos [distribuidos normalmente](https://en.wikipedia.org/wiki/Normal_distribution). Es posible que haya encontrado declaraciones antes de afirmar que \"la regresión lineal asume que los datos están distribuidos normalmente\", lo cual no es del todo correcto. La regresión lineal puede ser una herramienta útil y poderosa (¡y teóricamente justificada!) Incluso si los datos se desvían de esta suposición . Dicho esto, una distribución con colas gruesas es un problema particular para la regresión lineal, porque los puntos \"en las colas\" que están lejos de sus valores ajustados pueden afectar de manera desproporcionada los coeficientes ajustados y las predicciones. Incluso un solo punto, que podría por ejemplo, ser causado por un punto decimal mal colocado cuando los datos sin procesar fueron ingresados ​​manualmente en una hoja de cálculo por un empleado distraído, puede causar estragos en un modelo. Se dice que dicho punto de datos tiene un alto **apalancamiento** en el modelo."
   ]
  },
  {
   "cell_type": "markdown",
   "metadata": {},
   "source": [
    "### Ejercicio 3: (15 min)\n",
    "\n",
    "#### 3.1\n",
    "\n",
    "Obtenga los residuales comparando las observaciones con los valores ajustados (`model_lin.fittedvalues`). Compruebe que recupera los mismos valores que los almacenados en `model_lin.resid`."
   ]
  },
  {
   "cell_type": "markdown",
   "metadata": {},
   "source": [
    "**Respuesta.** "
   ]
  },
  {
   "cell_type": "code",
   "execution_count": null,
   "metadata": {},
   "outputs": [],
   "source": []
  },
  {
   "cell_type": "markdown",
   "metadata": {},
   "source": [
    "#### 3.2\n",
    "\n",
    "Trace un histograma y un gráfico QQ de los residuos. ¿Que notaste?\n",
    "    \n",
    "**Sugerencia:** Para comparar el histograma de residuos con una distribución normal, use el argumento ```density = True``` de ```plt.hist```, que coloca el histograma en la misma escala que la normal distribución. Luego, agregue el código:\n",
    "\n",
    "```\n",
    "xx = np.linspace (model_lin.resid.min (), model_lin.resid.max (), num = 1000)\n",
    "plt.plot (xx, scipy.stats.norm.pdf (xx, loc = 0.0, scale = np.sqrt (model_lin.scale)),\n",
    "     label = \"distribución normal\")\n",
    "```\n",
    "para superponer la función de densidad de probabilidad de la distribución normal.\n",
    "\n",
    "Para visualizar los valores atípicos en el histograma, podemos usar la función `rugplot ()` en la biblioteca `seaborn`. Para el propósito de este ejercicio, defina los valores atípicos como aquellos residuales que están a más de cuatro desviaciones estándar de cero."
   ]
  },
  {
   "cell_type": "markdown",
   "metadata": {},
   "source": [
    "**Respuesta.** "
   ]
  },
  {
   "cell_type": "code",
   "execution_count": null,
   "metadata": {
    "scrolled": false
   },
   "outputs": [],
   "source": []
  },
  {
   "cell_type": "markdown",
   "metadata": {},
   "source": []
  },
  {
   "cell_type": "markdown",
   "metadata": {},
   "source": [
    "También creamos la gráfica QQ de los residuales, que muestra no linealidad y es otra señal de advertencia fuerte:"
   ]
  },
  {
   "cell_type": "code",
   "execution_count": 11,
   "metadata": {},
   "outputs": [
    {
     "data": {
      "image/png": "[encoded data removed]",
      "text/plain": [
       "<Figure size 432x288 with 1 Axes>"
      ]
     },
     "metadata": {
      "needs_background": "light"
     },
     "output_type": "display_data"
    }
   ],
   "source": [
    "sm.qqplot(model_lin.resid, line=\"s\");"
   ]
  },
  {
   "cell_type": "markdown",
   "metadata": {},
   "source": [
    "Otra situación problemática que puede detectarse mediante el análisis de residuos es la **heterocedasticidad**, lo que significa que los residuos tienen una pequeña variación en algunos subconjuntos de datos y una alta variación en otros. Vimos esto exactamente desde el principio en el caso anterior, con los puntos de datos \"desplegándose\" alrededor de la línea de mejor ajuste, y determinamos que esto causaría problemas. Lo opuesto a heterocedasticidad es **homocedasticidad**, que es lo que queremos ver en los datos y significa que los residuos tienen una varianza similar en todos los subconjuntos de los datos."
   ]
  },
  {
   "cell_type": "markdown",
   "metadata": {},
   "source": [
    "### Ejercicio 4: (10 min)\n",
    "\n",
    "#### 4.1\n",
    "\n",
    "Supongamos que se nos dan datos de un par de casas en Milwaukee, digamos ```casa1``` y ```casa2```. Utilizamos nuestro modelo para obtener un precio de venta recomendado para cada casa. El precio devuelto para ```house1``` fue $ \\$ 60,000 $ y para ```house2``` fue $\\$7,000,000$. Sabemos que el precio de venta final de cada casa será diferente, ya que depende de varios otros factores no incluidos en el modelo. Al final, el precio de venta real de cada casa estará en algún intervalo\n",
    "$$\n",
    "\\begin{aligned}\n",
    " \\$60,000-\\verb*std1*&\\leq \\verb*house1* \\leq \\$60,000+\\verb*std1*,\\\\\n",
    "&\\\\\n",
    "\\$7,000,000-\\verb*std2* &\\leq \\verb*house2*\\leq \\$7,000,000+\\verb*std2*.\n",
    "\\end{aligned}\n",
    "$$\n",
    "\n",
    "Que desviación esperas que sea mayor, ```std1``` or ```std2```?"
   ]
  },
  {
   "cell_type": "markdown",
   "metadata": {},
   "source": [
    "**Respuesta.** "
   ]
  },
  {
   "cell_type": "code",
   "execution_count": null,
   "metadata": {},
   "outputs": [],
   "source": []
  },
  {
   "cell_type": "markdown",
   "metadata": {},
   "source": [
    "#### 4.2\n",
    "Verifique sus hallazgos del ejercicio 4.1 dibujando una gráfica de dispersión de los residuos contra los pies cuadrados. ¿Son los residuos homocedásticos o heteroscedásticos?\n",
    "\n",
    "**Sugerencia:** Para ver los cambios en la varianza un poco mejor, también puede subdividir los datos en `Fin_sqft` en cuatro contenedores y dibujar diagramas de violín."
   ]
  },
  {
   "cell_type": "markdown",
   "metadata": {},
   "source": [
    "**Respuesta.** "
   ]
  },
  {
   "cell_type": "code",
   "execution_count": null,
   "metadata": {
    "scrolled": true
   },
   "outputs": [],
   "source": []
  },
  {
   "cell_type": "markdown",
   "metadata": {},
   "source": [
    "Como nota al margen, la heterocedasticidad es fácil de mostrar, pero la homocedasticidad es difícil de demostrar, porque tenemos que demostrar que *ninguna* de las variables exhibe heterocedasticidad. En general, use su *intuición* para buscar heterocedasticidad; aquí, quizás era previsible que las casas pequeñas (y por lo tanto baratas) tuvieran un precio de venta más predecible que las casas grandes (caras)."
   ]
  },
  {
   "cell_type": "markdown",
   "metadata": {},
   "source": [
    "## Transformación de variables para mitigar problemas de residuos (30 min)\n",
    "\n",
    "Ahora que hemos visto que los residuos son problemáticos, necesitamos averiguar qué hacer con ellos. Una posible solución es tomar prestada la técnica que aprendimos en un caso anterior: tomar una transformación de la variable de respuesta. Intentemos hacer que la variable de respuesta sea el logaritmo de `Sale_price`. Es un supuesto natural que el precio de venta debe ser proporcional a los pies cuadrados de la propiedad. Por lo tanto, también tomaremos el logaritmo de los pies cuadrados como variable predictora en este modelo:"
   ]
  },
  {
   "cell_type": "code",
   "execution_count": 14,
   "metadata": {
    "scrolled": false
   },
   "outputs": [
    {
     "data": {
      "text/html": [
       "<table class=\"simpletable\">\n",
       "<caption>OLS Regression Results</caption>\n",
       "<tr>\n",
       "  <th>Dep. Variable:</th>    <td>np.log(Sale_price)</td> <th>  R-squared:         </th> <td>   0.599</td> \n",
       "</tr>\n",
       "<tr>\n",
       "  <th>Model:</th>                    <td>OLS</td>        <th>  Adj. R-squared:    </th> <td>   0.599</td> \n",
       "</tr>\n",
       "<tr>\n",
       "  <th>Method:</th>              <td>Least Squares</td>   <th>  F-statistic:       </th> <td>   2283.</td> \n",
       "</tr>\n",
       "<tr>\n",
       "  <th>Date:</th>              <td>Sat, 06 Feb 2021</td>  <th>  Prob (F-statistic):</th>  <td>  0.00</td>  \n",
       "</tr>\n",
       "<tr>\n",
       "  <th>Time:</th>                  <td>09:32:16</td>      <th>  Log-Likelihood:    </th> <td> -10020.</td> \n",
       "</tr>\n",
       "<tr>\n",
       "  <th>No. Observations:</th>       <td> 24450</td>       <th>  AIC:               </th> <td>2.007e+04</td>\n",
       "</tr>\n",
       "<tr>\n",
       "  <th>Df Residuals:</th>           <td> 24433</td>       <th>  BIC:               </th> <td>2.021e+04</td>\n",
       "</tr>\n",
       "<tr>\n",
       "  <th>Df Model:</th>               <td>    16</td>       <th>                     </th>     <td> </td>    \n",
       "</tr>\n",
       "<tr>\n",
       "  <th>Covariance Type:</th>       <td>nonrobust</td>     <th>                     </th>     <td> </td>    \n",
       "</tr>\n",
       "</table>\n",
       "<table class=\"simpletable\">\n",
       "<tr>\n",
       "          <td></td>            <th>coef</th>     <th>std err</th>      <th>t</th>      <th>P>|t|</th>  <th>[0.025</th>    <th>0.975]</th>  \n",
       "</tr>\n",
       "<tr>\n",
       "  <th>Intercept</th>        <td>    5.2346</td> <td>    0.057</td> <td>   91.435</td> <td> 0.000</td> <td>    5.122</td> <td>    5.347</td>\n",
       "</tr>\n",
       "<tr>\n",
       "  <th>District[T.10]</th>   <td>    0.6272</td> <td>    0.013</td> <td>   46.510</td> <td> 0.000</td> <td>    0.601</td> <td>    0.654</td>\n",
       "</tr>\n",
       "<tr>\n",
       "  <th>District[T.11]</th>   <td>    0.8221</td> <td>    0.013</td> <td>   63.362</td> <td> 0.000</td> <td>    0.797</td> <td>    0.847</td>\n",
       "</tr>\n",
       "<tr>\n",
       "  <th>District[T.12]</th>   <td>   -0.0038</td> <td>    0.021</td> <td>   -0.183</td> <td> 0.854</td> <td>   -0.045</td> <td>    0.037</td>\n",
       "</tr>\n",
       "<tr>\n",
       "  <th>District[T.13]</th>   <td>    0.8019</td> <td>    0.013</td> <td>   59.694</td> <td> 0.000</td> <td>    0.776</td> <td>    0.828</td>\n",
       "</tr>\n",
       "<tr>\n",
       "  <th>District[T.14]</th>   <td>    0.8701</td> <td>    0.013</td> <td>   64.855</td> <td> 0.000</td> <td>    0.844</td> <td>    0.896</td>\n",
       "</tr>\n",
       "<tr>\n",
       "  <th>District[T.15]</th>   <td>   -0.4857</td> <td>    0.020</td> <td>  -24.462</td> <td> 0.000</td> <td>   -0.525</td> <td>   -0.447</td>\n",
       "</tr>\n",
       "<tr>\n",
       "  <th>District[T.2]</th>    <td>    0.3132</td> <td>    0.015</td> <td>   20.827</td> <td> 0.000</td> <td>    0.284</td> <td>    0.343</td>\n",
       "</tr>\n",
       "<tr>\n",
       "  <th>District[T.3]</th>    <td>    1.0223</td> <td>    0.015</td> <td>   66.953</td> <td> 0.000</td> <td>    0.992</td> <td>    1.052</td>\n",
       "</tr>\n",
       "<tr>\n",
       "  <th>District[T.4]</th>    <td>   -0.1997</td> <td>    0.031</td> <td>   -6.464</td> <td> 0.000</td> <td>   -0.260</td> <td>   -0.139</td>\n",
       "</tr>\n",
       "<tr>\n",
       "  <th>District[T.5]</th>    <td>    0.6896</td> <td>    0.013</td> <td>   53.242</td> <td> 0.000</td> <td>    0.664</td> <td>    0.715</td>\n",
       "</tr>\n",
       "<tr>\n",
       "  <th>District[T.6]</th>    <td>   -0.1841</td> <td>    0.018</td> <td>  -10.103</td> <td> 0.000</td> <td>   -0.220</td> <td>   -0.148</td>\n",
       "</tr>\n",
       "<tr>\n",
       "  <th>District[T.7]</th>    <td>   -0.0692</td> <td>    0.016</td> <td>   -4.272</td> <td> 0.000</td> <td>   -0.101</td> <td>   -0.037</td>\n",
       "</tr>\n",
       "<tr>\n",
       "  <th>District[T.8]</th>    <td>    0.1567</td> <td>    0.017</td> <td>    9.050</td> <td> 0.000</td> <td>    0.123</td> <td>    0.191</td>\n",
       "</tr>\n",
       "<tr>\n",
       "  <th>District[T.9]</th>    <td>    0.5799</td> <td>    0.016</td> <td>   36.764</td> <td> 0.000</td> <td>    0.549</td> <td>    0.611</td>\n",
       "</tr>\n",
       "<tr>\n",
       "  <th>Units</th>            <td>   -0.3523</td> <td>    0.006</td> <td>  -55.450</td> <td> 0.000</td> <td>   -0.365</td> <td>   -0.340</td>\n",
       "</tr>\n",
       "<tr>\n",
       "  <th>np.log(Fin_sqft)</th> <td>    0.8687</td> <td>    0.008</td> <td>  104.173</td> <td> 0.000</td> <td>    0.852</td> <td>    0.885</td>\n",
       "</tr>\n",
       "</table>\n",
       "<table class=\"simpletable\">\n",
       "<tr>\n",
       "  <th>Omnibus:</th>       <td>8475.447</td> <th>  Durbin-Watson:     </th>  <td>   1.741</td> \n",
       "</tr>\n",
       "<tr>\n",
       "  <th>Prob(Omnibus):</th>  <td> 0.000</td>  <th>  Jarque-Bera (JB):  </th> <td>120216.866</td>\n",
       "</tr>\n",
       "<tr>\n",
       "  <th>Skew:</th>           <td>-1.272</td>  <th>  Prob(JB):          </th>  <td>    0.00</td> \n",
       "</tr>\n",
       "<tr>\n",
       "  <th>Kurtosis:</th>       <td>13.561</td>  <th>  Cond. No.          </th>  <td>    186.</td> \n",
       "</tr>\n",
       "</table><br/><br/>Warnings:<br/>[1] Standard Errors assume that the covariance matrix of the errors is correctly specified."
      ],
      "text/plain": [
       "<class 'statsmodels.iolib.summary.Summary'>\n",
       "\"\"\"\n",
       "                            OLS Regression Results                            \n",
       "==============================================================================\n",
       "Dep. Variable:     np.log(Sale_price)   R-squared:                       0.599\n",
       "Model:                            OLS   Adj. R-squared:                  0.599\n",
       "Method:                 Least Squares   F-statistic:                     2283.\n",
       "Date:                Sat, 06 Feb 2021   Prob (F-statistic):               0.00\n",
       "Time:                        09:32:16   Log-Likelihood:                -10020.\n",
       "No. Observations:               24450   AIC:                         2.007e+04\n",
       "Df Residuals:                   24433   BIC:                         2.021e+04\n",
       "Df Model:                          16                                         \n",
       "Covariance Type:            nonrobust                                         \n",
       "====================================================================================\n",
       "                       coef    std err          t      P>|t|      [0.025      0.975]\n",
       "------------------------------------------------------------------------------------\n",
       "Intercept            5.2346      0.057     91.435      0.000       5.122       5.347\n",
       "District[T.10]       0.6272      0.013     46.510      0.000       0.601       0.654\n",
       "District[T.11]       0.8221      0.013     63.362      0.000       0.797       0.847\n",
       "District[T.12]      -0.0038      0.021     -0.183      0.854      -0.045       0.037\n",
       "District[T.13]       0.8019      0.013     59.694      0.000       0.776       0.828\n",
       "District[T.14]       0.8701      0.013     64.855      0.000       0.844       0.896\n",
       "District[T.15]      -0.4857      0.020    -24.462      0.000      -0.525      -0.447\n",
       "District[T.2]        0.3132      0.015     20.827      0.000       0.284       0.343\n",
       "District[T.3]        1.0223      0.015     66.953      0.000       0.992       1.052\n",
       "District[T.4]       -0.1997      0.031     -6.464      0.000      -0.260      -0.139\n",
       "District[T.5]        0.6896      0.013     53.242      0.000       0.664       0.715\n",
       "District[T.6]       -0.1841      0.018    -10.103      0.000      -0.220      -0.148\n",
       "District[T.7]       -0.0692      0.016     -4.272      0.000      -0.101      -0.037\n",
       "District[T.8]        0.1567      0.017      9.050      0.000       0.123       0.191\n",
       "District[T.9]        0.5799      0.016     36.764      0.000       0.549       0.611\n",
       "Units               -0.3523      0.006    -55.450      0.000      -0.365      -0.340\n",
       "np.log(Fin_sqft)     0.8687      0.008    104.173      0.000       0.852       0.885\n",
       "==============================================================================\n",
       "Omnibus:                     8475.447   Durbin-Watson:                   1.741\n",
       "Prob(Omnibus):                  0.000   Jarque-Bera (JB):           120216.866\n",
       "Skew:                          -1.272   Prob(JB):                         0.00\n",
       "Kurtosis:                      13.561   Cond. No.                         186.\n",
       "==============================================================================\n",
       "\n",
       "Warnings:\n",
       "[1] Standard Errors assume that the covariance matrix of the errors is correctly specified.\n",
       "\"\"\""
      ]
     },
     "execution_count": 14,
     "metadata": {},
     "output_type": "execute_result"
    }
   ],
   "source": [
    "model_log = smf.ols(formula = \"np.log(Sale_price) ~ District + Units\"\n",
    "                           \"+ np.log(Fin_sqft)\", \n",
    "                 data = data_clean).fit()\n",
    "model_log.summary()"
   ]
  },
  {
   "cell_type": "markdown",
   "metadata": {},
   "source": [
    "### Ejercicio 5: (15 min)\n",
    "\n",
    "#### 5.1\n",
    "\n",
    "Trace un histograma de los residuos, similar a lo que hicimos en el ejercicio 3. ¿La transformación logarítmica solucionó los problemas de asimetría y valores atípicos que notamos anteriormente?\n",
    "\n",
    "**Sugerencia:** ¿Qué cambios en [Asimetría](https://en.wikipedia.org/wiki/Skewness) y [Kurtosis](https://en.wikipedia.org/wiki/Kurtosis) ves en el nuevo modelo?"
   ]
  },
  {
   "cell_type": "markdown",
   "metadata": {},
   "source": [
    "**Respuesta.** "
   ]
  },
  {
   "cell_type": "code",
   "execution_count": null,
   "metadata": {
    "scrolled": true
   },
   "outputs": [],
   "source": []
  },
  {
   "cell_type": "markdown",
   "metadata": {},
   "source": []
  },
  {
   "cell_type": "code",
   "execution_count": null,
   "metadata": {},
   "outputs": [],
   "source": []
  },
  {
   "cell_type": "code",
   "execution_count": null,
   "metadata": {},
   "outputs": [],
   "source": []
  },
  {
   "cell_type": "markdown",
   "metadata": {},
   "source": [
    "#### 5.2\n",
    "\n",
    "¿Mejoró el problema de la heterocedasticidad con el ejercicio 4?"
   ]
  },
  {
   "cell_type": "markdown",
   "metadata": {},
   "source": [
    "**Respuesta.** "
   ]
  },
  {
   "cell_type": "code",
   "execution_count": null,
   "metadata": {
    "scrolled": true
   },
   "outputs": [],
   "source": []
  },
  {
   "cell_type": "markdown",
   "metadata": {},
   "source": [
    "### Ejercicio 6: (5 min)\n",
    "\n",
    "#### 6.1\n",
    "\n",
    "¿Cómo interpretamos el coeficiente de \"Units\"?"
   ]
  },
  {
   "cell_type": "markdown",
   "metadata": {},
   "source": [
    "**Respuesta** \n"
   ]
  },
  {
   "cell_type": "code",
   "execution_count": null,
   "metadata": {},
   "outputs": [],
   "source": []
  },
  {
   "cell_type": "markdown",
   "metadata": {},
   "source": [
    "#### 6.2\n",
    "\n",
    "¿Qué historia nos cuenta el coeficiente `np.log (Fin_sqft)` en este modelo?\n",
    "\n",
    "(a) El precio de una propiedad es proporcional a sus pies cuadrados\n",
    "\n",
    "(b) El precio de una propiedad baja con los pies cuadrados.\n",
    "\n",
    "(c) El precio de una propiedad aumenta logarítmicamente con sus pies cuadrados\n",
    "\n",
    "(d) El precio de una propiedad aumenta exponencialmente con sus pies cuadrados.\n",
    "\n",
    "(e) El precio de una propiedad aumenta con los pies cuadrados, pero hay rendimientos decrecientes."
   ]
  },
  {
   "cell_type": "markdown",
   "metadata": {},
   "source": [
    "**Respuesta.**."
   ]
  },
  {
   "cell_type": "code",
   "execution_count": null,
   "metadata": {},
   "outputs": [],
   "source": []
  },
  {
   "cell_type": "markdown",
   "metadata": {},
   "source": [
    "## Manejo de valores atípicos (30 min)\n",
    "\n",
    "Nuestro análisis de residuos muestra una serie de valores atípicos. Como se mencionó anteriormente, los valores atípicos bajos no son del todo inesperados; p.ej. cuando la gente vende una propiedad a amigos o familiares, o si la propiedad está en mal estado, el precio de venta podría ser significativamente más bajo de lo esperado por el modelo. No obstante, los valores atípicos pueden desestabilizar un modelo y reducir significativamente su capacidad predictiva a pesar de que solo representan un subconjunto marginal de los datos generales."
   ]
  },
  {
   "cell_type": "markdown",
   "metadata": {},
   "source": [
    "### Pregunta: (5 min)\n",
    "\n",
    "¿Qué debe hacer un analista con los valores atípicos?"
   ]
  },
  {
   "cell_type": "markdown",
   "metadata": {},
   "source": [
    "Es tentador simplemente eliminar puntos de datos con grandes residuos; sin embargo, este punto de vista adolece de un sesgo retrospectivo. Los valores atípicos con residuos elevados no se pueden determinar antes de crear el modelo, lo que significa que no se pueden eliminar por adelantado.\n",
    "\n",
    "Por el contrario, el punto de partida siempre debe ser inspeccionar los datos sin procesar iniciales en busca de puntos de datos con valores inusualmente pequeños o grandes para ciertas características, y comprender por qué son diferentes. Si hay algo claramente mal con esos datos (como un punto decimal fuera de lugar), o si la razón de estos valores pequeños o grandes se puede explicar de manera efectiva a través de un factor externo que no es capturado por los datos en sí, entonces esto justifica su eliminación. De lo contrario, es mejor tener en cuenta estos puntos de datos durante todo el proceso de modelado y tratarlos durante el proceso de modelado en sí."
   ]
  },
  {
   "cell_type": "markdown",
   "metadata": {},
   "source": [
    "### Ejercicio 7: (10 min)\n",
    "\n",
    "Imprima las características de la propiedad con el mayor residuo absoluto (es decir, el peor valor atípico en el conjunto de datos). Para esta propiedad, ¿cuál es el precio de venta ajustado (previsto) y real?\n",
    "\n",
    "Busque todas las demás ventas de la misma propiedad en el conjunto de datos. ¿Puede ver una explicación para estos valores atípicos extremos?"
   ]
  },
  {
   "cell_type": "markdown",
   "metadata": {},
   "source": [
    "**Respuesta:**"
   ]
  },
  {
   "cell_type": "code",
   "execution_count": null,
   "metadata": {
    "scrolled": true
   },
   "outputs": [],
   "source": []
  },
  {
   "cell_type": "code",
   "execution_count": null,
   "metadata": {},
   "outputs": [],
   "source": []
  },
  {
   "cell_type": "markdown",
   "metadata": {},
   "source": [
    "El gráfico de dispersión a continuación muestra los residuos frente al precio de venta de todas las propiedades en los datos. El grupo en la esquina inferior izquierda muestra las propiedades que se vendieron a un precio mucho más bajo de lo esperado por el modelo, lo que puede explicarse como transacciones por debajo de la tasa de mercado entre amigos o familiares. Esto justificaría eliminar todas las transacciones por debajo de aproximadamente $2,000 del conjunto de datos antes de volver a ejecutar el análisis:"
   ]
  },
  {
   "cell_type": "code",
   "execution_count": 22,
   "metadata": {},
   "outputs": [
    {
     "data": {
      "text/plain": [
       "<matplotlib.lines.Line2D at 0x1db2458c1c8>"
      ]
     },
     "execution_count": 22,
     "metadata": {},
     "output_type": "execute_result"
    },
    {
     "data": {
      "image/png": "[encoded data removed]",
      "text/plain": [
       "<Figure size 432x288 with 1 Axes>"
      ]
     },
     "metadata": {
      "needs_background": "light"
     },
     "output_type": "display_data"
    }
   ],
   "source": [
    "plt.semilogx(data_clean[\"Sale_price\"], model_log.resid, \".\", alpha=0.2)\n",
    "plt.ylabel(\"Residuals\")\n",
    "plt.xlabel(\"Sale price\")\n",
    "plt.axhline(0, color=\"black\")"
   ]
  },
  {
   "cell_type": "markdown",
   "metadata": {},
   "source": [
    "Podemos cuantificar el efecto de estos valores atípicos eliminándolos y volviendo a ejecutar la regresión, y viendo cómo cambian los coeficientes ajustados."
   ]
  },
  {
   "cell_type": "markdown",
   "metadata": {},
   "source": [
    "### Ejercicio 8: (15 min)\n",
    "\n",
    "#### 8.1\n",
    "\n",
    "Vuelva a ejecutar el mismo modelo en un conjunto de datos reducido que elimine todos los valores atípicos con residuos absolutos superiores a 1,5.\n",
    "\n",
    "1. ¿Qué porcentaje de los datos se eliminan?\n",
    "2. ¿Cuál es el valor del coeficiente de `Units` ajustado antes y después de eliminar los valores atípicos?\n",
    "3. ¿Es significativa la diferencia?\n",
    "4. ¿Qué coeficientes se mueven en más de dos errores estándar después de eliminar los valores atípicos?"
   ]
  },
  {
   "cell_type": "markdown",
   "metadata": {},
   "source": [
    "**Solución.** "
   ]
  },
  {
   "cell_type": "code",
   "execution_count": null,
   "metadata": {},
   "outputs": [],
   "source": []
  },
  {
   "cell_type": "code",
   "execution_count": null,
   "metadata": {},
   "outputs": [],
   "source": []
  },
  {
   "cell_type": "markdown",
   "metadata": {},
   "source": []
  },
  {
   "cell_type": "markdown",
   "metadata": {},
   "source": [
    "#### 8.2\n",
    "\n",
    "Compruebe si las propiedades particularmente pequeñas o grandes también tienden a generar valores atípicos.\n",
    "\n",
    "**Respuesta** "
   ]
  },
  {
   "cell_type": "code",
   "execution_count": null,
   "metadata": {},
   "outputs": [],
   "source": []
  },
  {
   "cell_type": "code",
   "execution_count": null,
   "metadata": {},
   "outputs": [],
   "source": []
  },
  {
   "cell_type": "markdown",
   "metadata": {},
   "source": []
  },
  {
   "cell_type": "markdown",
   "metadata": {},
   "source": [
    "## Conclusiones (2 min)\n",
    "\n",
    "Usamos la regresión lineal para predecir el precio de venta de la propiedad en Milwaukee, Wisconsin, e ilustramos algunos problemas potenciales con la regresión lineal. Cuando algunos de los supuestos de la regresión lineal se violan gravemente, como la normalidad de los residuos y la homoescedasticidad, el modelo ajustado puede desestabilizarse. Como ejemplo, vimos cómo una pequeña cantidad de valores atípicos puede cambiar un coeficiente ajustado en varios errores estándar."
   ]
  },
  {
   "cell_type": "markdown",
   "metadata": {},
   "source": [
    "## Aspectos importantes (5 min)\n",
    "\n",
    "En este caso hemos aprendido:\n",
    "    \n",
    "1. Cómo reconocer la heterocedasticidad en los residuos y por qué es importante tratarla.\n",
    "2. Cómo puede ser útil transformar la variable de resultado para reducir la asimetría y aliviar parte de la heterocedasticidad presente en los residuos.\n",
    "3. Cómo tratar adecuadamente los valores atípicos en los residuos. Reconocimos que siempre es mejor comprender el significado de algunos de los valores atípicos para descartarlos de forma segura de nuestros modelos. En este caso, una transformación logarítmica del precio de venta alivió muchos de los problemas del modelo. Sin embargo, otros conjuntos de datos pueden invitar a diferentes transformaciones. Debe combinar la intuición y la experimentación para encontrar la transformación adecuada para usar.\n",
    "5. Cómo realizar un análisis residual al utilizar la regresión lineal en sus proyectos. Como hemos visto, estos le ayudarán a mejorar no solo la calidad de sus modelos, sino también su intuición y experiencia al realizar futuros análisis de datos en el trabajo."
   ]
  }
 ],
 "metadata": {
  "hide_input": false,
  "kernelspec": {
   "display_name": "Python 3",
   "language": "python",
   "name": "python3"
  },
  "language_info": {
   "codemirror_mode": {
    "name": "ipython",
    "version": 3
   },
   "file_extension": ".py",
   "mimetype": "text/x-python",
   "name": "python",
   "nbconvert_exporter": "python",
   "pygments_lexer": "ipython3",
   "version": "3.7.10"
  },
  "toc": {
   "nav_menu": {},
   "number_sections": true,
   "sideBar": true,
   "skip_h1_title": false,
   "title_cell": "Table of Contents",
   "title_sidebar": "Contents",
   "toc_cell": false,
   "toc_position": {
    "height": "calc(100% - 180px)",
    "left": "10px",
    "top": "150px",
    "width": "264.8px"
   },
   "toc_section_display": true,
   "toc_window_display": true
  }
 },
 "nbformat": 4,
 "nbformat_minor": 2
}
